{
 "cells": [
  {
   "cell_type": "markdown",
   "metadata": {},
   "source": [
    "# Data Processing - Overview"
   ]
  },
  {
   "cell_type": "markdown",
   "metadata": {},
   "source": [
    "## Pre-requisites and Module Introduction\n",
    "\n",
    "Let us understand prerequisites before getting into the module.\n",
    "* Good understanding of Data Processing using Scala.\n",
    "* Data Processing Life Cycle\n",
    " * Reading Data from files\n",
    " * Processing Data using APIs\n",
    " * Writing Processed Data back to files\n",
    "* We can also use Databases as sources and sinks. It will be covered in relevant modules.\n",
    "* We can also read data in streaming fashion which is out of the scope of this course.\n",
    "\n",
    "\n",
    "We will get an overview of the Data Processing Life Cycle by the end of the module.\n",
    "* Read data from the file.\n",
    "* Preview the schema and data to understand the characteristics of the data.\n",
    "* Get an overview of Data Frame APIs as well as functions used to process the data.\n",
    "* Check if there are any duplicates in the data.\n",
    "* Get an overview of how to write data in Data Frames to Files using File Formats such as Parquet using Compression.\n",
    "* We will deep dive into Data Frame APIs to process the data in subsequent modules."
   ]
  },
  {
   "cell_type": "markdown",
   "metadata": {},
   "source": [
    "## Starting Spark Context\n",
    "\n",
    "Let us understand more about Spark Context and also how to start it using SparkSession.\n",
    "\n",
    "* `SparkSession` is a class that is part of `org.apache.spark.sql` package.\n",
    "* When Spark application is submitted using `spark-submit` or `spark-shell` or `pyspark`, a web service called as Spark Context will be started.\n",
    "* Here is the example about how Spark Shell can be launched locally.\n",
    "```\n",
    "spark-shell \\\n",
    "    --master \"local[*]\"\n",
    "```\n",
    "* Here is the example about how Spark Shell can be launched on multinode cluster such as our labs.\n",
    "```\n",
    "spark2-shell \\\n",
    "    --master yarn \\\n",
    "    --conf spark.ui.port=0\n",
    "```\n",
    "* **Make sure to understand the enviroment and use appropriate command to launch Spark Shell.**\n",
    "* Spark Context maintains the context of all the jobs that are submitted until it is killed.\n",
    "* `SparkSession` is nothing but wrapper on top of Spark Context.\n",
    "* We need to first create SparkSession object with any name. But typically we use `spark`. Once it is created, several APIs will be exposed including `read`.\n",
    "* We need to at least set Application Name and also specify the execution mode in which Spark Context should run while creating `SparkSession` object.\n",
    "* We can use `appName` to specify name for the application and `master` to specify the execution mode.\n",
    "* Below is the sample code snippet which will start the Spark Session object for us."
   ]
  },
  {
   "cell_type": "code",
   "execution_count": 1,
   "metadata": {},
   "outputs": [],
   "source": [
    "import org.apache.spark.sql.SparkSession"
   ]
  },
  {
   "cell_type": "code",
   "execution_count": 2,
   "metadata": {},
   "outputs": [
    {
     "data": {
      "text/plain": [
       "spark = org.apache.spark.sql.SparkSession@3b55bcc7\n"
      ]
     },
     "metadata": {},
     "output_type": "display_data",
     "source": "user"
    },
    {
     "data": {
      "text/plain": [
       "org.apache.spark.sql.SparkSession@3b55bcc7"
      ]
     },
     "execution_count": 2,
     "metadata": {},
     "output_type": "execute_result"
    }
   ],
   "source": [
    "val spark = SparkSession.\n",
    "    builder.\n",
    "    config(\"spark.ui.port\", \"0\").\n",
    "    appName(\"Data Processing - Overview\").\n",
    "    getOrCreate"
   ]
  },
  {
   "cell_type": "code",
   "execution_count": 3,
   "metadata": {},
   "outputs": [
    {
     "data": {
      "text/plain": [
       "org.apache.spark.sql.SparkSession@3b55bcc7"
      ]
     },
     "execution_count": 3,
     "metadata": {},
     "output_type": "execute_result"
    }
   ],
   "source": [
    "spark"
   ]
  },
  {
   "cell_type": "code",
   "execution_count": 4,
   "metadata": {},
   "outputs": [
    {
     "name": "stdout",
     "output_type": "stream",
     "text": [
      "(spark.driver.port,64126)\n",
      "(spark.driver.host,senthilsmacbook.lan)\n",
      "(spark.ui.port,0)\n",
      "(spark.app.id,local-1590336104272)\n",
      "(spark.repl.class.uri,spark://senthilsmacbook.lan:64126/classes)\n",
      "(spark.repl.class.outputDir,/private/var/folders/ww/vfhykj2133q5svwt2_cqhpvw0000gn/T/spark-f30d3f63-f112-45b3-aaba-2bde8c668c9b/repl-8e135722-5bb5-45b6-98c1-530c871b17ff)\n",
      "(spark.master,local[*])\n",
      "(spark.executor.id,driver)\n",
      "(spark.submit.deployMode,client)\n",
      "(spark.jars,file:/usr/local/share/jupyter/kernels/apache_toree_scala/lib/toree-assembly-0.3.0-incubating.jar)\n",
      "(spark.app.name,Data Processing - Overview)\n"
     ]
    }
   ],
   "source": [
    "spark.sparkContext.getConf.getAll.foreach(println)"
   ]
  },
  {
   "cell_type": "markdown",
   "metadata": {},
   "source": [
    "## Overview of Spark read APIs\n",
    "\n",
    "Let us get the overview of Spark read APIs to read files of different formats.\n",
    "\n",
    "* `spark` has a bunch of APIs to read data from files of different formats.\n",
    "* All APIs are exposed under `spark.read`\n",
    " * `text` - to read single column data from text files as well as reading each of the whole text file as one record.\n",
    " * `csv`- to read text files with delimiters. Default is a comma, but we can use other delimiters as well.\n",
    " * `json` - to read data from JSON files\n",
    " * `orc` - to read data from ORC files\n",
    " * `parquet` - to read data from Parquet files.\n",
    " * We can also read data from other file formats by plugging in and by using `spark.read.format`\n",
    "* We can also pass options based on the file formats. Go to Scala Docs which will be provided as part of the certification exam to get the list of options available.\n",
    " * `inferSchema` - to infer the data types of the columns based on the data.\n",
    " * `header` - to use header to get the column names in case of text files.\n",
    " * `schema` - to explicitly specify the schema.\n",
    "* Let us see an example about how to read delimited data from text files."
   ]
  },
  {
   "cell_type": "code",
   "execution_count": 6,
   "metadata": {},
   "outputs": [
    {
     "data": {
      "text/plain": [
       "orders = [order_id: int, order_date: timestamp ... 2 more fields]\n"
      ]
     },
     "metadata": {},
     "output_type": "display_data",
     "source": "user"
    },
    {
     "data": {
      "text/plain": [
       "lastException: Throwable = null\n"
      ]
     },
     "metadata": {},
     "output_type": "display_data",
     "source": "user"
    },
    {
     "data": {
      "text/plain": [
       "[order_id: int, order_date: timestamp ... 2 more fields]"
      ]
     },
     "execution_count": 6,
     "metadata": {},
     "output_type": "execute_result"
    }
   ],
   "source": [
    "// spark.read.csv\n",
    "val orders = spark.\n",
    "    read.\n",
    "    schema(\"\"\"order_id INT, order_date TIMESTAMP,\n",
    "              order_customer_id INT, order_status STRING\n",
    "           \"\"\").\n",
    "    csv(\"retail_db/orders\")"
   ]
  },
  {
   "cell_type": "code",
   "execution_count": 7,
   "metadata": {},
   "outputs": [
    {
     "data": {
      "text/plain": [
       "orders = [order_id: int, order_date: timestamp ... 2 more fields]\n"
      ]
     },
     "metadata": {},
     "output_type": "display_data",
     "source": "user"
    },
    {
     "data": {
      "text/plain": [
       "[order_id: int, order_date: timestamp ... 2 more fields]"
      ]
     },
     "execution_count": 7,
     "metadata": {},
     "output_type": "execute_result"
    }
   ],
   "source": [
    "// spark.read.csv with option\n",
    "\n",
    "val orders = spark.\n",
    "    read.\n",
    "    schema(\"\"\"order_id INT, order_date TIMESTAMP,\n",
    "              order_customer_id INT, order_status STRING\n",
    "           \"\"\").\n",
    "    option(\"sep\", \",\").\n",
    "    csv(\"retail_db/orders\")"
   ]
  },
  {
   "cell_type": "code",
   "execution_count": 9,
   "metadata": {},
   "outputs": [
    {
     "data": {
      "text/plain": [
       "orders = [order_id: int, order_date: timestamp ... 2 more fields]\n"
      ]
     },
     "metadata": {},
     "output_type": "display_data",
     "source": "user"
    },
    {
     "data": {
      "text/plain": [
       "lastException: Throwable = null\n"
      ]
     },
     "metadata": {},
     "output_type": "display_data",
     "source": "user"
    },
    {
     "data": {
      "text/plain": [
       "[order_id: int, order_date: timestamp ... 2 more fields]"
      ]
     },
     "execution_count": 9,
     "metadata": {},
     "output_type": "execute_result"
    }
   ],
   "source": [
    "// spark.read.format\n",
    "\n",
    "val orders = spark.\n",
    "    read.\n",
    "    schema(\"\"\"order_id INT, order_date TIMESTAMP,\n",
    "              order_customer_id INT, order_status STRING\n",
    "           \"\"\").\n",
    "    option(\"sep\", \",\").\n",
    "    format(\"csv\").\n",
    "    load(\"retail_db/orders\")"
   ]
  },
  {
   "cell_type": "markdown",
   "metadata": {},
   "source": [
    "* Reading JSON data from text files. We can infer schema from the data as each JSON object contain both column name and value.\n",
    "* Example for JSON\n",
    "\n",
    "```\n",
    "{ \"order_id\": 1, \"order_date\": \"2013-07-25 00:00:00.0\", \"order_customer_id\": 12345, \"order_status\": \"COMPLETE\" }\n",
    "```"
   ]
  },
  {
   "cell_type": "code",
   "execution_count": null,
   "metadata": {},
   "outputs": [],
   "source": [
    "// spark.read.json\n",
    "\n",
    "val orders = spark.\n",
    "    read.\n",
    "    option(\"inferSchema\", \"false\").\n",
    "    schema(\"\"\"order_id INT, order_date TIMESTAMP,\n",
    "              order_customer_id INT, order_status STRING\n",
    "           \"\"\").\n",
    "    json(\"/public/retail_db_json/orders\")"
   ]
  },
  {
   "cell_type": "code",
   "execution_count": null,
   "metadata": {},
   "outputs": [],
   "source": [
    "// spark.read.format\n",
    "\n",
    "val orders = spark.\n",
    "    read.\n",
    "    option(\"inferSchema\", \"false\").\n",
    "    schema(\"\"\"order_id INT, order_date TIMESTAMP,\n",
    "              order_customer_id INT, order_status STRING\n",
    "           \"\"\").\n",
    "    format(\"json\").\n",
    "    load(\"/public/retail_db_json/orders\")"
   ]
  },
  {
   "cell_type": "markdown",
   "metadata": {},
   "source": [
    "## Previewing Schema and Data\n",
    "\n",
    "Here are the APIs that can be used to preview the schema and data.\n",
    "\n",
    "* `printSchema` can be used to get the schema details.\n",
    "* `show` can be used to preview the data. It will typically show first 20 records where output is truncated.\n",
    "* `describe` can be used to get statistics out of our data.\n",
    "* We can pass number of records and set truncate to false while previewing the data.\n"
   ]
  },
  {
   "cell_type": "code",
   "execution_count": 10,
   "metadata": {},
   "outputs": [
    {
     "data": {
      "text/plain": [
       "orders = [order_id: int, order_date: string ... 2 more fields]\n"
      ]
     },
     "metadata": {},
     "output_type": "display_data",
     "source": "user"
    },
    {
     "data": {
      "text/plain": [
       "[order_id: int, order_date: string ... 2 more fields]"
      ]
     },
     "execution_count": 10,
     "metadata": {},
     "output_type": "execute_result"
    }
   ],
   "source": [
    "val orders = spark.\n",
    "    read.\n",
    "    schema(\"\"\"order_id INT, \n",
    "              order_date STRING, \n",
    "              order_customer_id INT, \n",
    "              order_status STRING\n",
    "           \"\"\"\n",
    "          ).\n",
    "    csv(\"retail_db/orders\")"
   ]
  },
  {
   "cell_type": "code",
   "execution_count": 11,
   "metadata": {},
   "outputs": [
    {
     "data": {
      "text/plain": [
       "[order_id: int, order_date: string ... 2 more fields]"
      ]
     },
     "execution_count": 11,
     "metadata": {},
     "output_type": "execute_result"
    }
   ],
   "source": [
    "orders"
   ]
  },
  {
   "cell_type": "code",
   "execution_count": 12,
   "metadata": {},
   "outputs": [
    {
     "name": "stdout",
     "output_type": "stream",
     "text": [
      "root\n",
      " |-- order_id: integer (nullable = true)\n",
      " |-- order_date: string (nullable = true)\n",
      " |-- order_customer_id: integer (nullable = true)\n",
      " |-- order_status: string (nullable = true)\n",
      "\n"
     ]
    }
   ],
   "source": [
    "// Print Schema\n",
    "orders.printSchema"
   ]
  },
  {
   "cell_type": "code",
   "execution_count": 13,
   "metadata": {},
   "outputs": [
    {
     "name": "stdout",
     "output_type": "stream",
     "text": [
      "+-------+------------------+---------------------+-----------------+---------------+\n",
      "|summary|order_id          |order_date           |order_customer_id|order_status   |\n",
      "+-------+------------------+---------------------+-----------------+---------------+\n",
      "|count  |68883             |68883                |68883            |68883          |\n",
      "|mean   |34442.0           |null                 |6216.571098819738|null           |\n",
      "|stddev |19884.953633337947|null                 |3586.205241263963|null           |\n",
      "|min    |1                 |2013-07-25 00:00:00.0|1                |CANCELED       |\n",
      "|max    |68883             |2014-07-24 00:00:00.0|12435            |SUSPECTED_FRAUD|\n",
      "+-------+------------------+---------------------+-----------------+---------------+\n",
      "\n"
     ]
    }
   ],
   "source": [
    "// Describe\n",
    "orders.describe().show(false)"
   ]
  },
  {
   "cell_type": "code",
   "execution_count": 15,
   "metadata": {},
   "outputs": [
    {
     "name": "stdout",
     "output_type": "stream",
     "text": [
      "+--------+---------------------+-----------------+---------------+\n",
      "|order_id|order_date           |order_customer_id|order_status   |\n",
      "+--------+---------------------+-----------------+---------------+\n",
      "|1       |2013-07-25 00:00:00.0|11599            |CLOSED         |\n",
      "|2       |2013-07-25 00:00:00.0|256              |PENDING_PAYMENT|\n",
      "|3       |2013-07-25 00:00:00.0|12111            |COMPLETE       |\n",
      "|4       |2013-07-25 00:00:00.0|8827             |CLOSED         |\n",
      "|5       |2013-07-25 00:00:00.0|11318            |COMPLETE       |\n",
      "|6       |2013-07-25 00:00:00.0|7130             |COMPLETE       |\n",
      "|7       |2013-07-25 00:00:00.0|4530             |COMPLETE       |\n",
      "|8       |2013-07-25 00:00:00.0|2911             |PROCESSING     |\n",
      "|9       |2013-07-25 00:00:00.0|5657             |PENDING_PAYMENT|\n",
      "|10      |2013-07-25 00:00:00.0|5648             |PENDING_PAYMENT|\n",
      "|11      |2013-07-25 00:00:00.0|918              |PAYMENT_REVIEW |\n",
      "|12      |2013-07-25 00:00:00.0|1837             |CLOSED         |\n",
      "|13      |2013-07-25 00:00:00.0|9149             |PENDING_PAYMENT|\n",
      "|14      |2013-07-25 00:00:00.0|9842             |PROCESSING     |\n",
      "|15      |2013-07-25 00:00:00.0|2568             |COMPLETE       |\n",
      "|16      |2013-07-25 00:00:00.0|7276             |PENDING_PAYMENT|\n",
      "|17      |2013-07-25 00:00:00.0|2667             |COMPLETE       |\n",
      "|18      |2013-07-25 00:00:00.0|1205             |CLOSED         |\n",
      "|19      |2013-07-25 00:00:00.0|9488             |PENDING_PAYMENT|\n",
      "|20      |2013-07-25 00:00:00.0|9198             |PROCESSING     |\n",
      "+--------+---------------------+-----------------+---------------+\n",
      "only showing top 20 rows\n",
      "\n"
     ]
    }
   ],
   "source": [
    "// Preview Data - Default\n",
    "orders.show(false)"
   ]
  },
  {
   "cell_type": "code",
   "execution_count": 16,
   "metadata": {},
   "outputs": [
    {
     "name": "stdout",
     "output_type": "stream",
     "text": [
      "+--------+---------------------+-----------------+---------------+\n",
      "|order_id|order_date           |order_customer_id|order_status   |\n",
      "+--------+---------------------+-----------------+---------------+\n",
      "|1       |2013-07-25 00:00:00.0|11599            |CLOSED         |\n",
      "|2       |2013-07-25 00:00:00.0|256              |PENDING_PAYMENT|\n",
      "|3       |2013-07-25 00:00:00.0|12111            |COMPLETE       |\n",
      "|4       |2013-07-25 00:00:00.0|8827             |CLOSED         |\n",
      "|5       |2013-07-25 00:00:00.0|11318            |COMPLETE       |\n",
      "|6       |2013-07-25 00:00:00.0|7130             |COMPLETE       |\n",
      "|7       |2013-07-25 00:00:00.0|4530             |COMPLETE       |\n",
      "|8       |2013-07-25 00:00:00.0|2911             |PROCESSING     |\n",
      "|9       |2013-07-25 00:00:00.0|5657             |PENDING_PAYMENT|\n",
      "|10      |2013-07-25 00:00:00.0|5648             |PENDING_PAYMENT|\n",
      "+--------+---------------------+-----------------+---------------+\n",
      "only showing top 10 rows\n",
      "\n"
     ]
    }
   ],
   "source": [
    "// Preview Data - 10, with truncate false\n",
    "orders.show(10, truncate=false)"
   ]
  },
  {
   "cell_type": "markdown",
   "metadata": {},
   "source": [
    "## Overview of Data Frame APIs\n",
    "\n",
    "Let us get an overview of Data Frame APIs to process data in Data Frames.\n",
    "* Row Level Transformations or Projection of Data can be done using `select`, `selectExpr`, `withColumn`, `drop` on Data Frame.\n",
    "* We typically apply functions from `org.apache.spark.sql.functions` on columns using `select` and `withColumn`\n",
    "* Filtering is typically done either by using `filter` or `where` on Data Frame.\n",
    "* We can pass the condition to `filter` or `where` either by using SQL Style or Programming Language Style.\n",
    "* Global Aggregations can be performed directly on the Data Frame.\n",
    "* By Key or Grouping Aggregations are typically performed using `groupBy` and then aggregate functions using `agg`\n",
    "* We can sort the data in Data Frame using `sort` or `orderBy`\n",
    "* We will talk about Window Functions later. We can use use Window Functions for some advanced Aggregations and Ranking."
   ]
  },
  {
   "cell_type": "markdown",
   "metadata": {},
   "source": [
    "### Tasks\n",
    "\n",
    "Let us understand how to project the data using different options such as `select`, `selectExpr`, `withColumn`, `drop`.\n",
    "\n",
    "* Create Dataframe **employees** using Collection"
   ]
  },
  {
   "cell_type": "code",
   "execution_count": 17,
   "metadata": {},
   "outputs": [
    {
     "data": {
      "text/plain": [
       "employees = List((1,Scott,Tiger,1000.0,united states), (2,Henry,Ford,1250.0,India), (3,Nick,Junior,750.0,united KINGDOM), (4,Bill,Gomes,1500.0,AUSTRALIA))\n"
      ]
     },
     "metadata": {},
     "output_type": "display_data",
     "source": "user"
    },
    {
     "data": {
      "text/plain": [
       "List((1,Scott,Tiger,1000.0,united states), (2,Henry,Ford,1250.0,India), (3,Nick,Junior,750.0,united KINGDOM), (4,Bill,Gomes,1500.0,AUSTRALIA))"
      ]
     },
     "execution_count": 17,
     "metadata": {},
     "output_type": "execute_result"
    }
   ],
   "source": [
    "val employees = List((1, \"Scott\", \"Tiger\", 1000.0, \"united states\"),\n",
    "                     (2, \"Henry\", \"Ford\", 1250.0, \"India\"),\n",
    "                     (3, \"Nick\", \"Junior\", 750.0, \"united KINGDOM\"),\n",
    "                     (4, \"Bill\", \"Gomes\", 1500.0, \"AUSTRALIA\")\n",
    "                    )"
   ]
  },
  {
   "cell_type": "code",
   "execution_count": 18,
   "metadata": {},
   "outputs": [
    {
     "data": {
      "text/plain": [
       "employeesDF = [employee_id: int, first_name: string ... 3 more fields]\n"
      ]
     },
     "metadata": {},
     "output_type": "display_data",
     "source": "user"
    },
    {
     "data": {
      "text/plain": [
       "[employee_id: int, first_name: string ... 3 more fields]"
      ]
     },
     "execution_count": 18,
     "metadata": {},
     "output_type": "execute_result"
    }
   ],
   "source": [
    "val employeesDF = employees.\n",
    "    toDF(\"employee_id\", \n",
    "         \"first_name\", \n",
    "         \"last_name\", \n",
    "         \"salary\", \n",
    "         \"nationality\"\n",
    "        )"
   ]
  },
  {
   "cell_type": "code",
   "execution_count": 19,
   "metadata": {},
   "outputs": [
    {
     "name": "stdout",
     "output_type": "stream",
     "text": [
      "root\n",
      " |-- employee_id: integer (nullable = false)\n",
      " |-- first_name: string (nullable = true)\n",
      " |-- last_name: string (nullable = true)\n",
      " |-- salary: double (nullable = false)\n",
      " |-- nationality: string (nullable = true)\n",
      "\n"
     ]
    }
   ],
   "source": [
    "employeesDF.printSchema"
   ]
  },
  {
   "cell_type": "code",
   "execution_count": 20,
   "metadata": {},
   "outputs": [
    {
     "name": "stdout",
     "output_type": "stream",
     "text": [
      "+-----------+----------+---------+------+--------------+\n",
      "|employee_id|first_name|last_name|salary|   nationality|\n",
      "+-----------+----------+---------+------+--------------+\n",
      "|          1|     Scott|    Tiger|1000.0| united states|\n",
      "|          2|     Henry|     Ford|1250.0|         India|\n",
      "|          3|      Nick|   Junior| 750.0|united KINGDOM|\n",
      "|          4|      Bill|    Gomes|1500.0|     AUSTRALIA|\n",
      "+-----------+----------+---------+------+--------------+\n",
      "\n"
     ]
    }
   ],
   "source": [
    "employeesDF.show"
   ]
  },
  {
   "cell_type": "markdown",
   "metadata": {},
   "source": [
    "* Project employee first name and last name."
   ]
  },
  {
   "cell_type": "code",
   "execution_count": 21,
   "metadata": {},
   "outputs": [
    {
     "name": "stdout",
     "output_type": "stream",
     "text": [
      "+----------+---------+\n",
      "|first_name|last_name|\n",
      "+----------+---------+\n",
      "|     Scott|    Tiger|\n",
      "|     Henry|     Ford|\n",
      "|      Nick|   Junior|\n",
      "|      Bill|    Gomes|\n",
      "+----------+---------+\n",
      "\n"
     ]
    }
   ],
   "source": [
    "employeesDF.select(\"first_name\", \"last_name\").show"
   ]
  },
  {
   "cell_type": "markdown",
   "metadata": {},
   "source": [
    "* Project all the fields except for Nationality"
   ]
  },
  {
   "cell_type": "code",
   "execution_count": 22,
   "metadata": {},
   "outputs": [
    {
     "name": "stdout",
     "output_type": "stream",
     "text": [
      "+-----------+----------+---------+------+\n",
      "|employee_id|first_name|last_name|salary|\n",
      "+-----------+----------+---------+------+\n",
      "|          1|     Scott|    Tiger|1000.0|\n",
      "|          2|     Henry|     Ford|1250.0|\n",
      "|          3|      Nick|   Junior| 750.0|\n",
      "|          4|      Bill|    Gomes|1500.0|\n",
      "+-----------+----------+---------+------+\n",
      "\n"
     ]
    }
   ],
   "source": [
    "employeesDF.drop(\"nationality\").show"
   ]
  },
  {
   "cell_type": "markdown",
   "metadata": {},
   "source": [
    "**We will explore most of the APIs to process data in Data Frames as we get into the data processing at a later point in time**"
   ]
  },
  {
   "cell_type": "markdown",
   "metadata": {},
   "source": [
    "## Overview of Functions\n",
    "\n",
    "Let us get an overview of different functions that are available to process data in columns.\n",
    "* While Data Frame APIs work on the Data Frame, at times we might want to apply functions on column values.\n",
    "* Functions to process column values are available under `org.apache.spark.sql.functions`. These are typically used in select or withColumn on top of Data Frame.\n",
    "* There are approximately 300 pre-defined functions available for us.\n",
    "* Some of the important functions can be broadly categorized into String Manipulation, Date Manipulation, Numeric Functions and Aggregate Functions.\n",
    "* String Manipulation Functions\n",
    " * Concatenating Strings - `concat`\n",
    " * Getting Length - `length`\n",
    " * Trimming Strings - `trim`,` rtrim`, `ltrim`\n",
    " * Padding Strings - `lpad`, `rpad`\n",
    " * Extracting Strings - `split`, `substring`\n",
    "* Date Manipulation Functions\n",
    " * Date Arithmetic - `date_add`, `date_sub`, `datediff`, `add_months`\n",
    " * Date Extraction - `dayofmonth`, `month`, `year`, `date_format`\n",
    " * Get beginning period - `trunc`, `date_trunc`\n",
    "* Numeric Functions - `abs`, `greatest`\n",
    "* Aggregate Functions - `sum`, `min`, `max`\n",
    "* There are some special functions such as `col`, `lit` etc.\n",
    "  * `col` is used to convert string to column type. It can also be invoked using **$** after importing `spark.implicits._`\n",
    "  * `lit` is used to convert a literal to column value so that it can be used to generate derived fields by manipulating using literals."
   ]
  },
  {
   "cell_type": "markdown",
   "metadata": {},
   "source": [
    "### Tasks\n",
    "Let us perform a task to understand how functions are typically used.\n",
    "\n",
    "* Project full name by concatenating first name and last name along with other fields excluding first name and last name."
   ]
  },
  {
   "cell_type": "code",
   "execution_count": 23,
   "metadata": {},
   "outputs": [
    {
     "name": "stdout",
     "output_type": "stream",
     "text": [
      "+-----------+-----------+------+--------------+\n",
      "|employee_id|  full_name|salary|   nationality|\n",
      "+-----------+-----------+------+--------------+\n",
      "|          1|Scott Tiger|1000.0| united states|\n",
      "|          2| Henry Ford|1250.0|         India|\n",
      "|          3|Nick Junior| 750.0|united KINGDOM|\n",
      "|          4| Bill Gomes|1500.0|     AUSTRALIA|\n",
      "+-----------+-----------+------+--------------+\n",
      "\n"
     ]
    }
   ],
   "source": [
    "// Using col and lit\n",
    "import org.apache.spark.sql.functions.{col, lit, concat}\n",
    "employeesDF.\n",
    "    select(col(\"employee_id\"),\n",
    "           concat(col(\"first_name\"), lit(\" \"), col(\"last_name\")).alias(\"full_name\"),\n",
    "           col(\"salary\"),\n",
    "           col(\"nationality\")\n",
    "          ).\n",
    "    show"
   ]
  },
  {
   "cell_type": "code",
   "execution_count": 24,
   "metadata": {},
   "outputs": [
    {
     "name": "stdout",
     "output_type": "stream",
     "text": [
      "+-----------+------+--------------+------------+\n",
      "|employee_id|salary|   nationality|   full_name|\n",
      "+-----------+------+--------------+------------+\n",
      "|          1|1000.0| united states|Scott, Tiger|\n",
      "|          2|1250.0|         India| Henry, Ford|\n",
      "|          3| 750.0|united KINGDOM|Nick, Junior|\n",
      "|          4|1500.0|     AUSTRALIA| Bill, Gomes|\n",
      "+-----------+------+--------------+------------+\n",
      "\n"
     ]
    }
   ],
   "source": [
    "employeesDF.\n",
    "    withColumn(\"full_name\", \n",
    "               concat(col(\"first_name\"), lit(\", \"), col(\"last_name\"))).\n",
    "    drop(\"first_name\", \"last_name\").\n",
    "    show"
   ]
  },
  {
   "cell_type": "code",
   "execution_count": 25,
   "metadata": {},
   "outputs": [
    {
     "data": {
      "text/plain": [
       "spark = org.apache.spark.sql.SparkSession@3b55bcc7\n"
      ]
     },
     "metadata": {},
     "output_type": "display_data",
     "source": "user"
    },
    {
     "data": {
      "text/plain": [
       "org.apache.spark.sql.SparkSession@3b55bcc7"
      ]
     },
     "execution_count": 25,
     "metadata": {},
     "output_type": "execute_result"
    }
   ],
   "source": [
    "val spark = SparkSession.\n",
    "    builder.\n",
    "    config(\"spark.ui.port\", \"0\").\n",
    "    appName(\"Data Processing - Overview\").\n",
    "   // master(\"yarn\").\n",
    "    getOrCreate"
   ]
  },
  {
   "cell_type": "code",
   "execution_count": 26,
   "metadata": {},
   "outputs": [
    {
     "name": "stdout",
     "output_type": "stream",
     "text": [
      "+-----------+------+--------------+------------+\n",
      "|employee_id|salary|   nationality|   full_name|\n",
      "+-----------+------+--------------+------------+\n",
      "|          1|1000.0| united states|Scott, Tiger|\n",
      "|          2|1250.0|         India| Henry, Ford|\n",
      "|          3| 750.0|united KINGDOM|Nick, Junior|\n",
      "|          4|1500.0|     AUSTRALIA| Bill, Gomes|\n",
      "+-----------+------+--------------+------------+\n",
      "\n"
     ]
    }
   ],
   "source": [
    "// Using $ and lit\n",
    "import spark.implicits._\n",
    "employeesDF.\n",
    "    withColumn(\"full_name\", \n",
    "               concat($\"first_name\", lit(\", \"), $\"last_name\")).\n",
    "    drop(\"first_name\", \"last_name\").\n",
    "    show"
   ]
  },
  {
   "cell_type": "code",
   "execution_count": 27,
   "metadata": {},
   "outputs": [
    {
     "name": "stdout",
     "output_type": "stream",
     "text": [
      "+---------------------------+\n",
      "|function                   |\n",
      "+---------------------------+\n",
      "|!                          |\n",
      "|%                          |\n",
      "|&                          |\n",
      "|*                          |\n",
      "|+                          |\n",
      "|-                          |\n",
      "|/                          |\n",
      "|<                          |\n",
      "|<=                         |\n",
      "|<=>                        |\n",
      "|=                          |\n",
      "|==                         |\n",
      "|>                          |\n",
      "|>=                         |\n",
      "|^                          |\n",
      "|abs                        |\n",
      "|acos                       |\n",
      "|add_months                 |\n",
      "|aggregate                  |\n",
      "|and                        |\n",
      "|approx_count_distinct      |\n",
      "|approx_percentile          |\n",
      "|array                      |\n",
      "|array_contains             |\n",
      "|array_distinct             |\n",
      "|array_except               |\n",
      "|array_intersect            |\n",
      "|array_join                 |\n",
      "|array_max                  |\n",
      "|array_min                  |\n",
      "|array_position             |\n",
      "|array_remove               |\n",
      "|array_repeat               |\n",
      "|array_sort                 |\n",
      "|array_union                |\n",
      "|arrays_overlap             |\n",
      "|arrays_zip                 |\n",
      "|ascii                      |\n",
      "|asin                       |\n",
      "|assert_true                |\n",
      "|atan                       |\n",
      "|atan2                      |\n",
      "|avg                        |\n",
      "|base64                     |\n",
      "|bigint                     |\n",
      "|bin                        |\n",
      "|binary                     |\n",
      "|bit_length                 |\n",
      "|boolean                    |\n",
      "|bround                     |\n",
      "|cardinality                |\n",
      "|cast                       |\n",
      "|cbrt                       |\n",
      "|ceil                       |\n",
      "|ceiling                    |\n",
      "|char                       |\n",
      "|char_length                |\n",
      "|character_length           |\n",
      "|chr                        |\n",
      "|coalesce                   |\n",
      "|collect_list               |\n",
      "|collect_set                |\n",
      "|concat                     |\n",
      "|concat_ws                  |\n",
      "|conv                       |\n",
      "|corr                       |\n",
      "|cos                        |\n",
      "|cosh                       |\n",
      "|cot                        |\n",
      "|count                      |\n",
      "|count_min_sketch           |\n",
      "|covar_pop                  |\n",
      "|covar_samp                 |\n",
      "|crc32                      |\n",
      "|cube                       |\n",
      "|cume_dist                  |\n",
      "|current_database           |\n",
      "|current_date               |\n",
      "|current_timestamp          |\n",
      "|date                       |\n",
      "|date_add                   |\n",
      "|date_format                |\n",
      "|date_sub                   |\n",
      "|date_trunc                 |\n",
      "|datediff                   |\n",
      "|day                        |\n",
      "|dayofmonth                 |\n",
      "|dayofweek                  |\n",
      "|dayofyear                  |\n",
      "|decimal                    |\n",
      "|decode                     |\n",
      "|degrees                    |\n",
      "|dense_rank                 |\n",
      "|double                     |\n",
      "|e                          |\n",
      "|element_at                 |\n",
      "|elt                        |\n",
      "|encode                     |\n",
      "|exists                     |\n",
      "|exp                        |\n",
      "|explode                    |\n",
      "|explode_outer              |\n",
      "|expm1                      |\n",
      "|factorial                  |\n",
      "|filter                     |\n",
      "|find_in_set                |\n",
      "|first                      |\n",
      "|first_value                |\n",
      "|flatten                    |\n",
      "|float                      |\n",
      "|floor                      |\n",
      "|format_number              |\n",
      "|format_string              |\n",
      "|from_json                  |\n",
      "|from_unixtime              |\n",
      "|from_utc_timestamp         |\n",
      "|get_json_object            |\n",
      "|greatest                   |\n",
      "|grouping                   |\n",
      "|grouping_id                |\n",
      "|hash                       |\n",
      "|hex                        |\n",
      "|hour                       |\n",
      "|hypot                      |\n",
      "|if                         |\n",
      "|ifnull                     |\n",
      "|in                         |\n",
      "|initcap                    |\n",
      "|inline                     |\n",
      "|inline_outer               |\n",
      "|input_file_block_length    |\n",
      "|input_file_block_start     |\n",
      "|input_file_name            |\n",
      "|instr                      |\n",
      "|int                        |\n",
      "|isnan                      |\n",
      "|isnotnull                  |\n",
      "|isnull                     |\n",
      "|java_method                |\n",
      "|json_tuple                 |\n",
      "|kurtosis                   |\n",
      "|lag                        |\n",
      "|last                       |\n",
      "|last_day                   |\n",
      "|last_value                 |\n",
      "|lcase                      |\n",
      "|lead                       |\n",
      "|least                      |\n",
      "|left                       |\n",
      "|length                     |\n",
      "|levenshtein                |\n",
      "|like                       |\n",
      "|ln                         |\n",
      "|locate                     |\n",
      "|log                        |\n",
      "|log10                      |\n",
      "|log1p                      |\n",
      "|log2                       |\n",
      "|lower                      |\n",
      "|lpad                       |\n",
      "|ltrim                      |\n",
      "|map                        |\n",
      "|map_concat                 |\n",
      "|map_from_arrays            |\n",
      "|map_from_entries           |\n",
      "|map_keys                   |\n",
      "|map_values                 |\n",
      "|max                        |\n",
      "|md5                        |\n",
      "|mean                       |\n",
      "|min                        |\n",
      "|minute                     |\n",
      "|mod                        |\n",
      "|monotonically_increasing_id|\n",
      "|month                      |\n",
      "|months_between             |\n",
      "|named_struct               |\n",
      "|nanvl                      |\n",
      "|negative                   |\n",
      "|next_day                   |\n",
      "|not                        |\n",
      "|now                        |\n",
      "|ntile                      |\n",
      "|nullif                     |\n",
      "|nvl                        |\n",
      "|nvl2                       |\n",
      "|octet_length               |\n",
      "|or                         |\n",
      "|parse_url                  |\n",
      "|percent_rank               |\n",
      "|percentile                 |\n",
      "|percentile_approx          |\n",
      "|pi                         |\n",
      "|pmod                       |\n",
      "|posexplode                 |\n",
      "|posexplode_outer           |\n",
      "|position                   |\n",
      "|positive                   |\n",
      "|pow                        |\n",
      "|power                      |\n",
      "|printf                     |\n",
      "|quarter                    |\n",
      "|radians                    |\n",
      "|rand                       |\n",
      "|randn                      |\n",
      "|rank                       |\n",
      "|reflect                    |\n",
      "|regexp_extract             |\n",
      "|regexp_replace             |\n",
      "|repeat                     |\n",
      "|replace                    |\n",
      "|reverse                    |\n",
      "|right                      |\n",
      "|rint                       |\n",
      "|rlike                      |\n",
      "|rollup                     |\n",
      "|round                      |\n",
      "|row_number                 |\n",
      "|rpad                       |\n",
      "|rtrim                      |\n",
      "|schema_of_json             |\n",
      "|second                     |\n",
      "|sentences                  |\n",
      "|sequence                   |\n",
      "|sha                        |\n",
      "|sha1                       |\n",
      "|sha2                       |\n",
      "|shiftleft                  |\n",
      "|shiftright                 |\n",
      "|shiftrightunsigned         |\n",
      "|shuffle                    |\n",
      "|sign                       |\n",
      "|signum                     |\n",
      "|sin                        |\n",
      "|sinh                       |\n",
      "|size                       |\n",
      "|skewness                   |\n",
      "|slice                      |\n",
      "|smallint                   |\n",
      "|sort_array                 |\n",
      "|soundex                    |\n",
      "|space                      |\n",
      "|spark_partition_id         |\n",
      "|split                      |\n",
      "|sqrt                       |\n",
      "|stack                      |\n",
      "|std                        |\n",
      "|stddev                     |\n",
      "|stddev_pop                 |\n",
      "|stddev_samp                |\n",
      "|str_to_map                 |\n",
      "|string                     |\n",
      "|struct                     |\n",
      "|substr                     |\n",
      "|substring                  |\n",
      "|substring_index            |\n",
      "|sum                        |\n",
      "|tan                        |\n",
      "|tanh                       |\n",
      "|timestamp                  |\n",
      "|tinyint                    |\n",
      "|to_date                    |\n",
      "|to_json                    |\n",
      "|to_timestamp               |\n",
      "|to_unix_timestamp          |\n",
      "|to_utc_timestamp           |\n",
      "|transform                  |\n",
      "|translate                  |\n",
      "|trim                       |\n",
      "|trunc                      |\n",
      "|ucase                      |\n",
      "|unbase64                   |\n",
      "|unhex                      |\n",
      "|unix_timestamp             |\n",
      "|upper                      |\n",
      "|uuid                       |\n",
      "|var_pop                    |\n",
      "|var_samp                   |\n",
      "|variance                   |\n",
      "|weekday                    |\n",
      "|weekofyear                 |\n",
      "|when                       |\n",
      "|window                     |\n",
      "|xpath                      |\n",
      "|xpath_boolean              |\n",
      "|xpath_double               |\n",
      "|xpath_float                |\n",
      "|xpath_int                  |\n",
      "|xpath_long                 |\n",
      "|xpath_number               |\n",
      "|xpath_short                |\n",
      "|xpath_string               |\n",
      "|year                       |\n",
      "|zip_with                   |\n",
      "||                          |\n",
      "|~                          |\n",
      "+---------------------------+\n",
      "\n"
     ]
    }
   ],
   "source": [
    "spark.sql(\"SHOW functions\").show(300, false)"
   ]
  },
  {
   "cell_type": "code",
   "execution_count": 28,
   "metadata": {},
   "outputs": [
    {
     "name": "stdout",
     "output_type": "stream",
     "text": [
      "+------------------------------------------------------------------------------------------+\n",
      "|function_desc                                                                             |\n",
      "+------------------------------------------------------------------------------------------+\n",
      "|Function: concat                                                                          |\n",
      "|Class: org.apache.spark.sql.catalyst.expressions.Concat                                   |\n",
      "|Usage: concat(col1, col2, ..., colN) - Returns the concatenation of col1, col2, ..., colN.|\n",
      "+------------------------------------------------------------------------------------------+\n",
      "\n"
     ]
    }
   ],
   "source": [
    "spark.sql(\"DESCRIBE FUNCTION concat\").show(false)"
   ]
  },
  {
   "cell_type": "code",
   "execution_count": 29,
   "metadata": {},
   "outputs": [
    {
     "name": "stdout",
     "output_type": "stream",
     "text": [
      "+-----------+-----------+------+--------------+\n",
      "|employee_id|  full_name|salary|   nationality|\n",
      "+-----------+-----------+------+--------------+\n",
      "|          1|Scott Tiger|1000.0| united states|\n",
      "|          2| Henry Ford|1250.0|         India|\n",
      "|          3|Nick Junior| 750.0|united KINGDOM|\n",
      "|          4| Bill Gomes|1500.0|     AUSTRALIA|\n",
      "+-----------+-----------+------+--------------+\n",
      "\n"
     ]
    }
   ],
   "source": [
    "// Using SQL Style\n",
    "employeesDF.\n",
    "    selectExpr(\"employee_id\",\n",
    "               \"concat(first_name, ' ', last_name) AS full_name\",\n",
    "               \"salary\", \n",
    "               \"nationality\"\n",
    "              ).\n",
    "    show"
   ]
  },
  {
   "cell_type": "markdown",
   "metadata": {},
   "source": [
    "**We will explore most of the functions as we get into the data processing at a later point in time**"
   ]
  },
  {
   "cell_type": "markdown",
   "metadata": {},
   "source": [
    "## Overview of Spark Write APIs\n",
    "\n",
    "Let us understand how we can write Data Frames to different file formats.\n",
    "* All the batch write APIs are grouped under write which is exposed to Data Frame objects.\n",
    "* All APIs are exposed under spark.read\n",
    " * `text` - to write single column data to text files.\n",
    " * `csv` - to write to text files with delimiters. Default is a comma, but we can use other delimiters as well.\n",
    " * `json` - to write data to JSON files\n",
    " * `orc` - to write data to ORC files\n",
    " * `parquet` - to write data to Parquet files.\n",
    "* We can also write data to other file formats by plugging in and by using `write.format`, for example **avro**\n",
    "* We can use options based on the type using which we are writing the Data Frame to.\n",
    " * `compression` - Compression codec (`gzip`, `snappy` etc)\n",
    " * `sep` - to specify delimiters while writing into text files using **csv**\n",
    "* We can `overwrite` the directories or `append` to existing directories using `mode`\n",
    "* Create copy of orders data in **parquet** file format with no compression. If the folder already exists overwrite it. Target Location: **/user/[YOUR_USER_NAME]/retail_db/orders**\n",
    "* When you pass options, if there are typos then options will be ignored rather than failing. Be careful and make sure that output is validated.\n",
    "* By default the number of files in the output directory is equal to number of tasks that are used to process the data in the last stage. However, we might want to control number of files so that we don\"t run into too many small files issue.\n",
    "* We can control number of files by using `coalesce`. It has to be invoked on top of Data Frame before invoking `write`."
   ]
  },
  {
   "cell_type": "code",
   "execution_count": 30,
   "metadata": {},
   "outputs": [
    {
     "data": {
      "text/plain": [
       "orders = [order_id: int, order_date: string ... 2 more fields]\n"
      ]
     },
     "metadata": {},
     "output_type": "display_data",
     "source": "user"
    },
    {
     "data": {
      "text/plain": [
       "[order_id: int, order_date: string ... 2 more fields]"
      ]
     },
     "execution_count": 30,
     "metadata": {},
     "output_type": "execute_result"
    }
   ],
   "source": [
    "val orders = spark.\n",
    "    read.\n",
    "    schema(\"\"\"order_id INT, \n",
    "              order_date STRING, \n",
    "              order_customer_id INT, \n",
    "              order_status STRING\n",
    "           \"\"\"\n",
    "          ).\n",
    "    csv(\"retail_db/orders\")"
   ]
  },
  {
   "cell_type": "code",
   "execution_count": 31,
   "metadata": {},
   "outputs": [
    {
     "data": {
      "text/plain": [
       "snappy"
      ]
     },
     "execution_count": 31,
     "metadata": {},
     "output_type": "execute_result"
    }
   ],
   "source": [
    "spark.conf.get(\"spark.sql.parquet.compression.codec\")"
   ]
  },
  {
   "cell_type": "code",
   "execution_count": 32,
   "metadata": {},
   "outputs": [],
   "source": [
    "// Using write.parquet\n",
    "orders.\n",
    "    write.\n",
    "    mode(\"overwrite\").\n",
    "    option(\"compression\", \"none\").\n",
    "    parquet(\"retail_db/out/orders\")"
   ]
  },
  {
   "cell_type": "code",
   "execution_count": 33,
   "metadata": {},
   "outputs": [],
   "source": [
    "// Using write.format(\"parquet\")\n",
    "orders.\n",
    "    coalesce(1).\n",
    "    write.\n",
    "    mode(\"overwrite\").\n",
    "    option(\"compression\", \"none\").\n",
    "    format(\"parquet\").\n",
    "    save(\"retail_db/out/orders\")"
   ]
  },
  {
   "cell_type": "code",
   "execution_count": 35,
   "metadata": {},
   "outputs": [
    {
     "name": "stdout",
     "output_type": "stream",
     "text": [
      "total 968\n",
      "-rw-r--r--  1 sethangavel  staff  495224 May 24 10:14 part-00000-77da07aa-c8a8-49c4-9b9c-fdcc992ef780-c000.parquet\n",
      "-rw-r--r--  1 sethangavel  staff       0 May 24 10:14 _SUCCESS\n"
     ]
    },
    {
     "data": {
      "text/plain": [
       "warning: there was one feature warning; re-run with -feature for details\n"
      ]
     },
     "metadata": {},
     "output_type": "display_data",
     "source": "user"
    },
    {
     "data": {
      "text/plain": [
       "0"
      ]
     },
     "execution_count": 35,
     "metadata": {},
     "output_type": "execute_result"
    }
   ],
   "source": [
    "import sys.process._\n",
    "\n",
    "\"ls -ltr retail_db/out/orders\" !"
   ]
  },
  {
   "cell_type": "code",
   "execution_count": 36,
   "metadata": {},
   "outputs": [
    {
     "name": "stdout",
     "output_type": "stream",
     "text": [
      "root\n",
      " |-- order_id: integer (nullable = true)\n",
      " |-- order_date: string (nullable = true)\n",
      " |-- order_customer_id: integer (nullable = true)\n",
      " |-- order_status: string (nullable = true)\n",
      "\n"
     ]
    }
   ],
   "source": [
    "spark.read.parquet(\"retail_db/out/orders\").printSchema"
   ]
  },
  {
   "cell_type": "code",
   "execution_count": 38,
   "metadata": {},
   "outputs": [
    {
     "name": "stdout",
     "output_type": "stream",
     "text": [
      "+--------+--------------------+-----------------+---------------+\n",
      "|order_id|          order_date|order_customer_id|   order_status|\n",
      "+--------+--------------------+-----------------+---------------+\n",
      "|       1|2013-07-25 00:00:...|            11599|         CLOSED|\n",
      "|       2|2013-07-25 00:00:...|              256|PENDING_PAYMENT|\n",
      "|       3|2013-07-25 00:00:...|            12111|       COMPLETE|\n",
      "|       4|2013-07-25 00:00:...|             8827|         CLOSED|\n",
      "|       5|2013-07-25 00:00:...|            11318|       COMPLETE|\n",
      "|       6|2013-07-25 00:00:...|             7130|       COMPLETE|\n",
      "|       7|2013-07-25 00:00:...|             4530|       COMPLETE|\n",
      "|       8|2013-07-25 00:00:...|             2911|     PROCESSING|\n",
      "|       9|2013-07-25 00:00:...|             5657|PENDING_PAYMENT|\n",
      "|      10|2013-07-25 00:00:...|             5648|PENDING_PAYMENT|\n",
      "|      11|2013-07-25 00:00:...|              918| PAYMENT_REVIEW|\n",
      "|      12|2013-07-25 00:00:...|             1837|         CLOSED|\n",
      "|      13|2013-07-25 00:00:...|             9149|PENDING_PAYMENT|\n",
      "|      14|2013-07-25 00:00:...|             9842|     PROCESSING|\n",
      "|      15|2013-07-25 00:00:...|             2568|       COMPLETE|\n",
      "|      16|2013-07-25 00:00:...|             7276|PENDING_PAYMENT|\n",
      "|      17|2013-07-25 00:00:...|             2667|       COMPLETE|\n",
      "|      18|2013-07-25 00:00:...|             1205|         CLOSED|\n",
      "|      19|2013-07-25 00:00:...|             9488|PENDING_PAYMENT|\n",
      "|      20|2013-07-25 00:00:...|             9198|     PROCESSING|\n",
      "+--------+--------------------+-----------------+---------------+\n",
      "only showing top 20 rows\n",
      "\n"
     ]
    },
    {
     "data": {
      "text/plain": [
       "lastException: Throwable = null\n"
      ]
     },
     "metadata": {},
     "output_type": "display_data",
     "source": "user"
    }
   ],
   "source": [
    "spark.read.parquet(\"retail_db/out/orders\").show"
   ]
  },
  {
   "cell_type": "markdown",
   "metadata": {},
   "source": [
    "## Conclusion\n",
    "Let us recap about key takeaways from this module.\n",
    "* APIs to read the data from files into Data Frame.\n",
    "* Previewing Schema and the data in Data Frame.\n",
    "* Overview of Data Frame APIs and Functions\n",
    "* Writing data from Data Frame into Files\n",
    "* Reorganizing the airlines data by month\n",
    "* Simple APIs to analyze the data.\n",
    "\n",
    "Now it is time for us to deep dive into APIs to perform all the standard transformations as part of Data Processing.\n",
    "\n"
   ]
  },
  {
   "cell_type": "code",
   "execution_count": null,
   "metadata": {},
   "outputs": [],
   "source": []
  }
 ],
 "metadata": {
  "kernelspec": {
   "display_name": "Apache Toree - Scala",
   "language": "scala",
   "name": "apache_toree_scala"
  },
  "language_info": {
   "codemirror_mode": "text/x-scala",
   "file_extension": ".scala",
   "mimetype": "text/x-scala",
   "name": "scala",
   "pygments_lexer": "scala",
   "version": "2.11.12"
  }
 },
 "nbformat": 4,
 "nbformat_minor": 4
}
