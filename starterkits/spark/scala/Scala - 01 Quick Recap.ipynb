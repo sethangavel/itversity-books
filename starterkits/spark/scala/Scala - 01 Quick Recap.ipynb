{
 "cells": [
  {
   "cell_type": "markdown",
   "metadata": {},
   "source": [
    "# Quick Recap of Scala\n",
    "\n",
    "Let us quickly recap of some of the core programming concepts of Scala before we get into Spark."
   ]
  },
  {
   "cell_type": "markdown",
   "metadata": {},
   "source": [
    "## Data Engineering Life Cycle\n",
    "\n",
    "Let us first understand the Data Engineering Life Cycle. We typically read the data, process it by applying business rules and write the data back to different targets\n",
    "\n",
    "* Read the data from different sources.\n",
    " * Files\n",
    " * Databases\n",
    " * Mainframes\n",
    " * APIs\n",
    "* Processing the data\n",
    " * Row Level Transformations\n",
    " * Aggregations\n",
    " * Sorting\n",
    " * Ranking\n",
    " * Joining multiple data sets\n",
    "* Write data to different targets.\n",
    " * Files\n",
    " * Databases\n",
    " * Mainframes\n",
    " * APIs"
   ]
  },
  {
   "cell_type": "markdown",
   "metadata": {},
   "source": [
    "## Scala CLI or Jupyter Notebook\n",
    "\n",
    "We can use Scala CLI or Jupyter Notebook to explore APIs.\n",
    "\n",
    "* We can launch Scala REPL using `scala` command.\n",
    "* We can launch the Jupyter Notebook using the `jupyter notebook` command.\n",
    "* A web service will be started on port number 8888 by default. You are using **jupyter notebook** provided by us and hence you don't need to run the above command.\n",
    "* We can go to the browser and connect to the web server using IP address and port number.\n",
    "\n",
    "Here are some of the features of using Jupyter Notebook\n",
    "\n",
    "* We should be able to explore code in interactive fashion.\n",
    "* We can issue magic commands such as `%%sh` to run shell commands."
   ]
  },
  {
   "cell_type": "code",
   "execution_count": 1,
   "metadata": {},
   "outputs": [
    {
     "data": {
      "text/plain": [
       "version 2.11.12"
      ]
     },
     "execution_count": 1,
     "metadata": {},
     "output_type": "execute_result"
    }
   ],
   "source": [
    "util.Properties.versionString"
   ]
  },
  {
   "cell_type": "markdown",
   "metadata": {},
   "source": [
    "### Tasks\n",
    "\n",
    "Let us perform these tasks to just recollect how to use Scala REPL or Jupyter Notebook.\n",
    "* Create variables i and j assigning 10 and 20.5 respectively."
   ]
  },
  {
   "cell_type": "code",
   "execution_count": 2,
   "metadata": {},
   "outputs": [
    {
     "data": {
      "text/plain": [
       "i = 10\n",
       "j = 20.5\n"
      ]
     },
     "metadata": {},
     "output_type": "display_data",
     "source": "user"
    },
    {
     "data": {
      "text/plain": [
       "20.5"
      ]
     },
     "execution_count": 2,
     "metadata": {},
     "output_type": "execute_result"
    }
   ],
   "source": [
    "val i = 10\n",
    "val j = 20.5"
   ]
  },
  {
   "cell_type": "markdown",
   "metadata": {},
   "source": [
    "* Add the values and assign it to res."
   ]
  },
  {
   "cell_type": "code",
   "execution_count": 3,
   "metadata": {},
   "outputs": [
    {
     "data": {
      "text/plain": [
       "res = 30.5\n"
      ]
     },
     "metadata": {},
     "output_type": "display_data",
     "source": "user"
    },
    {
     "data": {
      "text/plain": [
       "30.5"
      ]
     },
     "execution_count": 3,
     "metadata": {},
     "output_type": "execute_result"
    }
   ],
   "source": [
    "val res = i + j"
   ]
  },
  {
   "cell_type": "markdown",
   "metadata": {},
   "source": [
    "## Basic Programming Constructs\n",
    "\n",
    "Let us recollect some of the basic programming constructs of Scala.\n",
    "* Comparison Operations (==, !=, <, >, <=, >=, etc) \n",
    "  * All the comparison operators return a True or False (Boolean value)\n",
    "* Conditionals (if) \n",
    "  * We typically use comparison operators as part of conditionals.\n",
    "* Loops (for) \n",
    "  * We can iterate through collection using `for (i <- l)` where l is a standard collection such as list or set.\n",
    "  * Scala provides special operator with `to` and `by` which will return a collection of integers between the given range.\n",
    "* In Scala `;` is optional before writing code in next line. However, if you want to have multiple expressions in the same line, they have to be separated by `;`\n"
   ]
  },
  {
   "cell_type": "markdown",
   "metadata": {},
   "source": [
    "### Tasks\n",
    " \n",
    "Let us perform few tasks to quickly recap basic programming constructs of Scala.\n",
    " * Get all the odd numbers between 1 and 15.\n",
    " "
   ]
  },
  {
   "cell_type": "code",
   "execution_count": 5,
   "metadata": {},
   "outputs": [
    {
     "data": {
      "text/plain": [
       "Range(1, 3, 5, 7, 9, 11, 13, 15)"
      ]
     },
     "execution_count": 5,
     "metadata": {},
     "output_type": "execute_result"
    }
   ],
   "source": [
    "(1 to 16 by 2)"
   ]
  },
  {
   "cell_type": "markdown",
   "metadata": {},
   "source": [
    "* Print all those numbers which are divisible by 3 from the above list."
   ]
  },
  {
   "cell_type": "code",
   "execution_count": 7,
   "metadata": {},
   "outputs": [
    {
     "name": "stdout",
     "output_type": "stream",
     "text": [
      "3\n",
      "9\n",
      "15\n"
     ]
    }
   ],
   "source": [
    "for (i <- (1 to 16 by 2))\n",
    "    if(i%3 == 0) println(i)"
   ]
  },
  {
   "cell_type": "markdown",
   "metadata": {},
   "source": [
    "## Developing Functions\n",
    "\n",
    "Let us understand how to develop functions using Scala as programming language.\n",
    "* Function starts with `def` followed by function name.\n",
    "* We need to specify data types for arguments or parameters.\n",
    "* However, it is optional to use dot to invoke a function and circular brackets to pass arguments (with some restrictions).\n",
    "* There is no need to specify return type and also `return` statement is optional for the function. If `return` statement need to be added, then we need to specify return type for the function. \n",
    "* Functions which take another function as an argument is called higher order functions.\n",
    "\n",
    "### Tasks\n",
    "\n",
    "Let us perform few tasks to understand how to develop functions in Scala.   \n",
    " \n",
    " * Sum of integers between lower bound and upper bound using formula.\n",
    "\n"
   ]
  },
  {
   "cell_type": "code",
   "execution_count": 20,
   "metadata": {},
   "outputs": [
    {
     "data": {
      "text/plain": [
       "sumOfN: (n: Int)Int\n"
      ]
     },
     "metadata": {},
     "output_type": "display_data",
     "source": "user"
    },
    {
     "data": {
      "text/plain": [
       "55"
      ]
     },
     "execution_count": 20,
     "metadata": {},
     "output_type": "execute_result"
    }
   ],
   "source": [
    "def sumOfN(n: Int) = {\n",
    "    (n * (n + 1))/2\n",
    "}\n",
    "\n",
    "sumOfN(10)"
   ]
  },
  {
   "cell_type": "code",
   "execution_count": 22,
   "metadata": {},
   "outputs": [
    {
     "data": {
      "text/plain": [
       "sumOfIntegers: (lb: Int, ub: Int)Int\n"
      ]
     },
     "metadata": {},
     "output_type": "display_data",
     "source": "user"
    },
    {
     "data": {
      "text/plain": [
       "45"
      ]
     },
     "execution_count": 22,
     "metadata": {},
     "output_type": "execute_result"
    }
   ],
   "source": [
    "def sumOfIntegers(lb: Int, ub: Int) = {\n",
    "    sumOfN(ub) - sumOfN(lb -1)\n",
    "}\n",
    "\n",
    "sumOfIntegers(5, 10)"
   ]
  },
  {
   "cell_type": "markdown",
   "metadata": {},
   "source": [
    "* Sum of integers between lower bound and upper bound using loops."
   ]
  },
  {
   "cell_type": "code",
   "execution_count": 23,
   "metadata": {},
   "outputs": [
    {
     "data": {
      "text/plain": [
       "sumOfIntegers: (lb: Int, ub: Int)Int\n"
      ]
     },
     "metadata": {},
     "output_type": "display_data",
     "source": "user"
    },
    {
     "data": {
      "text/plain": [
       "55"
      ]
     },
     "execution_count": 23,
     "metadata": {},
     "output_type": "execute_result"
    }
   ],
   "source": [
    "def sumOfIntegers(lb: Int, ub: Int) = {\n",
    "    var total = 0\n",
    "    for (e <- (lb to ub))\n",
    "        total += e\n",
    "    total\n",
    "}\n",
    "\n",
    "sumOfIntegers(1, 10)"
   ]
  },
  {
   "cell_type": "markdown",
   "metadata": {},
   "source": [
    "* Sum of squares of integers between lower bound and upper bound using loops."
   ]
  },
  {
   "cell_type": "code",
   "execution_count": 25,
   "metadata": {},
   "outputs": [
    {
     "data": {
      "text/plain": [
       "sumOfSquares: (lb: Int, ub: Int)Int\n"
      ]
     },
     "metadata": {},
     "output_type": "display_data",
     "source": "user"
    },
    {
     "data": {
      "text/plain": [
       "29"
      ]
     },
     "execution_count": 25,
     "metadata": {},
     "output_type": "execute_result"
    }
   ],
   "source": [
    "def sumOfSquares(lb: Int, ub: Int) = {\n",
    "    var total = 0\n",
    "    for (e <- (lb to ub))\n",
    "        total += e * e\n",
    "    total\n",
    "}\n",
    "\n",
    "sumOfSquares(2, 4)"
   ]
  },
  {
   "cell_type": "markdown",
   "metadata": {},
   "source": [
    "* Sum of the even numbers between lower bound and upper bound using loops."
   ]
  },
  {
   "cell_type": "code",
   "execution_count": 30,
   "metadata": {},
   "outputs": [
    {
     "data": {
      "text/plain": [
       "sumOfEvens: (lb: Int, ub: Int)Int\n"
      ]
     },
     "metadata": {},
     "output_type": "display_data",
     "source": "user"
    },
    {
     "data": {
      "text/plain": [
       "6"
      ]
     },
     "execution_count": 30,
     "metadata": {},
     "output_type": "execute_result"
    }
   ],
   "source": [
    "def sumOfEvens(lb: Int, ub: Int) = {\n",
    "    var total = 0\n",
    "    for (e <- (lb to ub))\n",
    "        total += (if(e%2 == 0) e else 0)\n",
    "    total\n",
    "}\n",
    "\n",
    "sumOfEvens(2, 4)"
   ]
  },
  {
   "cell_type": "markdown",
   "metadata": {},
   "source": [
    "## Anonymous Functions\n",
    "\n",
    "Let us recap details related to Anonymous functions. In some programming languages like Python they are popularly known as lambda functions.\n",
    "\n",
    "* We can develop functions with out names. They are called Anonymous Functions and also known as Lambda Functions.\n",
    "* We typically use them to pass as arguments to higher order functions which takes functions as arguments\n",
    "    "
   ]
  },
  {
   "cell_type": "markdown",
   "metadata": {},
   "source": [
    "### Tasks\n",
    "\n",
    "Let us perform few tasks related to anonmous functions.\n",
    "    \n",
    "* Create a generic function mySum which is supposed to perform arithmetic using integers within a range.\n",
    "  * It takes 3 arguments - lb, ub and f.\n",
    "  * Function f should be invoked inside the function on each element within the range."
   ]
  },
  {
   "cell_type": "code",
   "execution_count": 33,
   "metadata": {},
   "outputs": [
    {
     "data": {
      "text/plain": [
       "mySum: (lb: Int, ub: Int, f: Int => Int)Int\n"
      ]
     },
     "metadata": {},
     "output_type": "display_data",
     "source": "user"
    }
   ],
   "source": [
    "def mySum(lb: Int, ub: Int, f: Int => Int) = {\n",
    "    var total = 0\n",
    "    for (e <- (lb to ub))\n",
    "        total += f(e)\n",
    "    total\n",
    "}"
   ]
  },
  {
   "cell_type": "markdown",
   "metadata": {},
   "source": [
    "* Sum of integers between lower bound and upper bound using mySum."
   ]
  },
  {
   "cell_type": "code",
   "execution_count": 34,
   "metadata": {},
   "outputs": [
    {
     "data": {
      "text/plain": [
       "9"
      ]
     },
     "execution_count": 34,
     "metadata": {},
     "output_type": "execute_result"
    }
   ],
   "source": [
    "mySum(2, 4, i => i)"
   ]
  },
  {
   "cell_type": "markdown",
   "metadata": {},
   "source": [
    "* Sum of squares of integers between lower bound and upper bound using mySum."
   ]
  },
  {
   "cell_type": "code",
   "execution_count": 35,
   "metadata": {},
   "outputs": [
    {
     "data": {
      "text/plain": [
       "29"
      ]
     },
     "execution_count": 35,
     "metadata": {},
     "output_type": "execute_result"
    }
   ],
   "source": [
    "mySum(2, 4, i => i * i)"
   ]
  },
  {
   "cell_type": "markdown",
   "metadata": {},
   "source": [
    "* Sum of the even numbers between lower bound and upper bound using mySum."
   ]
  },
  {
   "cell_type": "code",
   "execution_count": 36,
   "metadata": {},
   "outputs": [
    {
     "data": {
      "text/plain": [
       "6"
      ]
     },
     "execution_count": 36,
     "metadata": {},
     "output_type": "execute_result"
    }
   ],
   "source": [
    "mySum(2, 4, i => if(i%2 == 0) i else 0)"
   ]
  },
  {
   "cell_type": "markdown",
   "metadata": {},
   "source": [
    "## Overview of Collections and Tuples\n",
    "\n",
    "Let's quickly recap about Collections and Tuples in Scala. We will primarily talk about collections and tuples that comes as part of Scala standard library such as `List`, `Set`, `Map` and tuple etc. There is no name for tuple type.\n",
    "\n",
    "* Group of elements with length and index - `List`\n",
    "* Group of unique elements - `Set`\n",
    "* Group of key value pairs - `Map`\n",
    "* While List, Set and Map contain group of homogeneous elements, tuple contains group of heterogeneous elements.\n",
    "* We can consider List, Set and Map as a table in a database and tuple as a row or record in a given table.\n",
    "* Typically we create list of tuples or set of tuples and Map is nothing but collection of tuples with 2 elements and keys are unique.\n",
    "* We typically use Map Reduce APIs to process the data in collections. There are also some pre-defined functions such as `size`, `sum`, `min`, `max` etc for aggregating data in collections."
   ]
  },
  {
   "cell_type": "markdown",
   "metadata": {},
   "source": [
    "### Tasks\n",
    "\n",
    "Let us perform few tasks to quickly recap details about Collections and Tuples in Python. We will also quickly recap about Map Reduce APIs.\n",
    "\n",
    "* Create a collection of orders by reading data from a file."
   ]
  },
  {
   "cell_type": "code",
   "execution_count": null,
   "metadata": {},
   "outputs": [],
   "source": [
    "%%sh\n",
    "ls -ltr /data/retail_db/orders/part-00000"
   ]
  },
  {
   "cell_type": "code",
   "execution_count": 45,
   "metadata": {},
   "outputs": [
    {
     "data": {
      "text/plain": [
       "ordersPath = /data/retail_db/orders/part-00000\n",
       "orders = non-empty iterator\n"
      ]
     },
     "metadata": {},
     "output_type": "display_data",
     "source": "user"
    },
    {
     "data": {
      "text/plain": [
       "non-empty iterator"
      ]
     },
     "execution_count": 45,
     "metadata": {},
     "output_type": "execute_result"
    }
   ],
   "source": [
    "import scala.io.Source\n",
    "\n",
    "val ordersPath = \"/data/retail_db/orders/part-00000\"\n",
    "val orders = Source.fromFile(ordersPath).\n",
    "    getLines"
   ]
  },
  {
   "cell_type": "code",
   "execution_count": 43,
   "metadata": {},
   "outputs": [
    {
     "data": {
      "text/plain": [
       "68883"
      ]
     },
     "execution_count": 43,
     "metadata": {},
     "output_type": "execute_result"
    }
   ],
   "source": [
    "orders.size"
   ]
  },
  {
   "cell_type": "markdown",
   "metadata": {},
   "source": [
    "* Once iterated, the collection will be flushed out of memory. If you want to process again, you might have to read the data from the file again.\n",
    "* This is the limitation of using Scala REPL or tools such as Jupyter Notebook using Scala REPL style features."
   ]
  },
  {
   "cell_type": "code",
   "execution_count": 47,
   "metadata": {},
   "outputs": [
    {
     "data": {
      "text/plain": [
       "ordersPath = /data/retail_db/orders/part-00000\n",
       "orders = non-empty iterator\n"
      ]
     },
     "metadata": {},
     "output_type": "display_data",
     "source": "user"
    },
    {
     "data": {
      "text/plain": [
       "non-empty iterator"
      ]
     },
     "execution_count": 47,
     "metadata": {},
     "output_type": "execute_result"
    }
   ],
   "source": [
    "import scala.io.Source\n",
    "\n",
    "val ordersPath = \"/data/retail_db/orders/part-00000\"\n",
    "val orders = Source.fromFile(ordersPath).\n",
    "    getLines"
   ]
  },
  {
   "cell_type": "code",
   "execution_count": 48,
   "metadata": {},
   "outputs": [
    {
     "name": "stdout",
     "output_type": "stream",
     "text": [
      "1,2013-07-25 00:00:00.0,11599,CLOSED\n",
      "2,2013-07-25 00:00:00.0,256,PENDING_PAYMENT\n",
      "3,2013-07-25 00:00:00.0,12111,COMPLETE\n",
      "4,2013-07-25 00:00:00.0,8827,CLOSED\n",
      "5,2013-07-25 00:00:00.0,11318,COMPLETE\n",
      "6,2013-07-25 00:00:00.0,7130,COMPLETE\n",
      "7,2013-07-25 00:00:00.0,4530,COMPLETE\n",
      "8,2013-07-25 00:00:00.0,2911,PROCESSING\n",
      "9,2013-07-25 00:00:00.0,5657,PENDING_PAYMENT\n",
      "10,2013-07-25 00:00:00.0,5648,PENDING_PAYMENT\n"
     ]
    }
   ],
   "source": [
    "orders.take(10).foreach(println)"
   ]
  },
  {
   "cell_type": "markdown",
   "metadata": {},
   "source": [
    "* Get all unique order statuses. Make sure data is sorted in alphabetical order."
   ]
  },
  {
   "cell_type": "code",
   "execution_count": 49,
   "metadata": {},
   "outputs": [
    {
     "data": {
      "text/plain": [
       "Set(PAYMENT_REVIEW, CLOSED, SUSPECTED_FRAUD, PROCESSING, COMPLETE, PENDING, PENDING_PAYMENT, ON_HOLD, CANCELED)"
      ]
     },
     "execution_count": 49,
     "metadata": {},
     "output_type": "execute_result"
    }
   ],
   "source": [
    "orders.map(order => order.split(\",\")(3)).toSet"
   ]
  },
  {
   "cell_type": "markdown",
   "metadata": {},
   "source": [
    "* Get count of all unique dates."
   ]
  },
  {
   "cell_type": "code",
   "execution_count": 51,
   "metadata": {},
   "outputs": [
    {
     "data": {
      "text/plain": [
       "ordersPath = /data/retail_db/orders/part-00000\n",
       "orders = empty iterator\n"
      ]
     },
     "metadata": {},
     "output_type": "display_data",
     "source": "user"
    },
    {
     "data": {
      "text/plain": [
       "364"
      ]
     },
     "execution_count": 51,
     "metadata": {},
     "output_type": "execute_result"
    }
   ],
   "source": [
    "import scala.io.Source\n",
    "\n",
    "val ordersPath = \"/data/retail_db/orders/part-00000\"\n",
    "val orders = Source.fromFile(ordersPath).\n",
    "    getLines\n",
    "\n",
    "orders.map(order => order.split(\",\")(1)).toSet.size"
   ]
  },
  {
   "cell_type": "markdown",
   "metadata": {},
   "source": [
    "* Sort the data in orders in ascending order by order_customer_id and then order_date."
   ]
  },
  {
   "cell_type": "code",
   "execution_count": 54,
   "metadata": {},
   "outputs": [
    {
     "name": "stdout",
     "output_type": "stream",
     "text": [
      "22945,2013-12-13 00:00:00.0,1,COMPLETE\n",
      "57963,2013-08-02 00:00:00.0,2,ON_HOLD\n",
      "15192,2013-10-29 00:00:00.0,2,PENDING_PAYMENT\n",
      "67863,2013-11-30 00:00:00.0,2,COMPLETE\n",
      "33865,2014-02-18 00:00:00.0,2,COMPLETE\n",
      "22646,2013-12-11 00:00:00.0,3,COMPLETE\n",
      "61453,2013-12-14 00:00:00.0,3,COMPLETE\n",
      "23662,2013-12-19 00:00:00.0,3,COMPLETE\n",
      "35158,2014-02-26 00:00:00.0,3,COMPLETE\n",
      "46399,2014-05-09 00:00:00.0,3,PROCESSING\n"
     ]
    },
    {
     "data": {
      "text/plain": [
       "ordersPath = /data/retail_db/orders/part-00000\n",
       "orders = List(1,2013-07-25 00:00:00.0,11599,CLOSED, 2,2013-07-25 00:00:00.0,256,PENDING_PAYMENT, 3,2013-07-25 00:00:00.0,12111,COMPLETE, 4,2013-07-25 00:00:00.0,8827,CLOSED, 5,2013-07-25 00:00:00.0,11318,COMPLETE, 6,2013-07-25 00:00:00.0,7130,COMPLETE, 7,2013-07-25 00:00:00.0,4530,COMPLETE, 8,2013-07-25 00:00:00.0,2911,PROCESSING, 9,2013-07-25 00:00:00.0,5657,PENDING_PAYMENT, 10,2013-07-25 00:00:00.0,5648,PENDING_PAYMENT, 11,2013-07-25 00:00:00.0,918,PAYMENT_REVIEW, 12,2013-07-25 00:00:00.0,1837,CLOSED, 13,2013-07-25 00:00:00.0,9149,PENDING_PAYMENT, 14,2013-07-25 00:00:00.0,9842,PROCESSING, 15,2013-07-25 00:00:00.0,2568,COMPLETE, 16,2013-07-25 00:00:00.0,7276,PENDING_PAYMENT, 17,2013-07-25 00:00:...\n"
      ]
     },
     "metadata": {},
     "output_type": "display_data",
     "source": "user"
    },
    {
     "data": {
      "text/plain": [
       "List(1,2013-07-25 00:00:00.0,11599,CLOSED, 2,2013-07-25 00:00:00.0,256,PENDING_PAYMENT, 3,2013-07-25 00:00:00.0,12111,COMPLETE, 4,2013-07-25 00:00:00.0,8827,CLOSED, 5,2013-07-25 00:00:00.0,11318,COMPLETE, 6,2013-07-25 00:00:00.0,7130,COMPLETE, 7,2013-07-25 00:00:00.0,4530,COMPLETE, 8,2013-07-25 00:00:00.0,2911,PROCESSING, 9,2013-07-25 00:00:00.0,5657,PENDING_PAYMENT, 10,2013-07-25 00:00:00.0,5648,PENDING_PAYMENT, 11,2013-07-25 00:00:00.0,918,PAYMENT_REVIEW, 12,2013-07-25 00:00:00.0,1837,CLOSED, 13,2013-07-25 00:00:00.0,9149,PENDING_PAYMENT, 14,2013-07-25 00:00:00.0,9842,PROCESSING, 15,2013-07-25 00:00:00.0,2568,COMPLETE, 16,2013-07-25 00:00:00.0,7276,PENDING_PAYMENT, 17,2013-07-25 00:00:..."
      ]
     },
     "execution_count": 54,
     "metadata": {},
     "output_type": "execute_result"
    }
   ],
   "source": [
    "import scala.io.Source\n",
    "\n",
    "val ordersPath = \"/data/retail_db/orders/part-00000\"\n",
    "val orders = Source.fromFile(ordersPath).\n",
    "    getLines.\n",
    "    toList\n",
    "\n",
    "orders.\n",
    "    sortBy(k => (k.split(\",\")(2).toInt, k.split(\",\")(1))).\n",
    "    take(10).\n",
    "    foreach(println)"
   ]
  },
  {
   "cell_type": "markdown",
   "metadata": {},
   "source": [
    "* Create a collection of order_items by reading data from a file."
   ]
  },
  {
   "cell_type": "code",
   "execution_count": null,
   "metadata": {},
   "outputs": [],
   "source": [
    "import scala.io.Source\n",
    "\n",
    "val orderItemsPath = \"/data/retail_db/order_items/part-00000\"\n",
    "val orderItems = Source.fromFile(orderItemsPath).\n",
    "    getLines"
   ]
  },
  {
   "cell_type": "markdown",
   "metadata": {},
   "source": [
    "* Get revenue for a given order_item_order_id."
   ]
  },
  {
   "cell_type": "code",
   "execution_count": 65,
   "metadata": {},
   "outputs": [
    {
     "data": {
      "text/plain": [
       "getOrderRevenue: (orderItems: List[String], orderId: Int)Float\n"
      ]
     },
     "metadata": {},
     "output_type": "display_data",
     "source": "user"
    }
   ],
   "source": [
    "def getOrderRevenue(orderItems: List[String], orderId: Int) = {\n",
    "    val orderItemsFiltered = orderItems.\n",
    "        filter(orderItem => orderItem.split(\",\")(1).toInt == 2)\n",
    "    val orderItemsMap = orderItemsFiltered.\n",
    "        map(orderItem => orderItem.split(\",\")(4).toFloat)\n",
    "    orderItemsMap.sum\n",
    "}"
   ]
  },
  {
   "cell_type": "code",
   "execution_count": 66,
   "metadata": {},
   "outputs": [
    {
     "data": {
      "text/plain": [
       "orderItemsPath = /data/retail_db/order_items/part-00000\n",
       "orderItems = List(1,1,957,1,299.98,299.98, 2,2,1073,1,199.99,199.99, 3,2,502,5,250.0,50.0, 4,2,403,1,129.99,129.99, 5,4,897,2,49.98,24.99, 6,4,365,5,299.95,59.99, 7,4,502,3,150.0,50.0, 8,4,1014,4,199.92,49.98, 9,5,957,1,299.98,299.98, 10,5,365,5,299.95,59.99, 11,5,1014,2,99.96,49.98, 12,5,957,1,299.98,299.98, 13,5,403,1,129.99,129.99, 14,7,1073,1,199.99,199.99, 15,7,957,1,299.98,299.98, 16,7,926,5,79.95,15.99, 17,8,365,3,179.97,59.99, 18,8,365,5,299.95,59.99, 19,8,1014,4,199.92,49.98, 20,8,502,1,50.0,50.0, 21,9,191,2,199.98,99.99, 22,9,1073,1,199.99,199.99, 23,9,1073,1,199.99,199.99, 24,10,1073,1,199.99,199.99, 25,10,1014,2,99.96,49.98, 26,10,403,1,129.99,129.99, 27,10,917,1,21.99,21.99,...\n"
      ]
     },
     "metadata": {},
     "output_type": "display_data",
     "source": "user"
    },
    {
     "data": {
      "text/plain": [
       "List(1,1,957,1,299.98,299.98, 2,2,1073,1,199.99,199.99, 3,2,502,5,250.0,50.0, 4,2,403,1,129.99,129.99, 5,4,897,2,49.98,24.99, 6,4,365,5,299.95,59.99, 7,4,502,3,150.0,50.0, 8,4,1014,4,199.92,49.98, 9,5,957,1,299.98,299.98, 10,5,365,5,299.95,59.99, 11,5,1014,2,99.96,49.98, 12,5,957,1,299.98,299.98, 13,5,403,1,129.99,129.99, 14,7,1073,1,199.99,199.99, 15,7,957,1,299.98,299.98, 16,7,926,5,79.95,15.99, 17,8,365,3,179.97,59.99, 18,8,365,5,299.95,59.99, 19,8,1014,4,199.92,49.98, 20,8,502,1,50.0,50.0, 21,9,191,2,199.98,99.99, 22,9,1073,1,199.99,199.99, 23,9,1073,1,199.99,199.99, 24,10,1073,1,199.99,199.99, 25,10,1014,2,99.96,49.98, 26,10,403,1,129.99,129.99, 27,10,917,1,21.99,21.99,..."
      ]
     },
     "execution_count": 66,
     "metadata": {},
     "output_type": "execute_result"
    }
   ],
   "source": [
    "import scala.io.Source\n",
    "\n",
    "val orderItemsPath = \"/data/retail_db/order_items/part-00000\"\n",
    "val orderItems = Source.fromFile(orderItemsPath).\n",
    "    getLines.\n",
    "    toList"
   ]
  },
  {
   "cell_type": "code",
   "execution_count": 67,
   "metadata": {},
   "outputs": [
    {
     "data": {
      "text/plain": [
       "579.98"
      ]
     },
     "execution_count": 67,
     "metadata": {},
     "output_type": "execute_result"
    }
   ],
   "source": [
    "getOrderRevenue(orderItems, 2)"
   ]
  },
  {
   "cell_type": "markdown",
   "metadata": {},
   "source": [
    "## Limitations of Collections\n",
    "\n",
    "We can use Collections for data processing. It provides rich APIs to read data from different sources, process the data and then write it to different targets.\n",
    "\n",
    "* Scala Native Collections works well for light weight data processing.\n",
    "* Collection operations are typically single threaded, which means only one process take care of processing the data.\n",
    "* As data volume grows, the processing time might grow exponentially and also run into resource contention.\n",
    "* It is not trivial to achieve desired parallelism using Scala Collections.\n",
    "* There are Distributed Computing Frameworks such as Hadoop Map Reduce, Spark etc to take care of data processing at scale on multi node Hadoop or Spark Clusters.\n",
    "* Both Hadoop Map Reduce and Spark comes with Distributed Computing Frameworks as well as APIs.\n",
    "\n",
    "**Scala Collections are typically used for light weight Data Processing and Spark is used for Data Processing at Scale.**"
   ]
  },
  {
   "cell_type": "markdown",
   "metadata": {},
   "source": [
    "## Development Life Cycle\n",
    "\n",
    "Let us understand the development life cycle. We typically use IDEs such as PyCharm to develop Python based applications.\n",
    "\n",
    "* Create Project - retail\n",
    "* Choose the interpreter 3.x\n",
    "* Make sure plugins such as pandas are installed.\n",
    "* Create config.py script for externalizing run time parameters such as input path, output path etc.\n",
    "* Create app folder for the source code."
   ]
  },
  {
   "cell_type": "markdown",
   "metadata": {},
   "source": [
    "### Tasks\n",
    "\n",
    "Let us develop a simple application to understand end to end development life cycle.\n",
    "\n",
    "* Read the data from order_items\n",
    "* Get revenue for each order id\n",
    "* Save the output which contain order id and revenue to a file.\n",
    "\n",
    "Click [here](https://github.com/dgadiraju/python-retail/tree/v1.0) for the complete code for the above tasks."
   ]
  },
  {
   "cell_type": "markdown",
   "metadata": {},
   "source": [
    "## Exercises\n",
    "\n",
    "Let us perform few exercises to understand how to process the data. We will use LinkedIn data to perform some basic data processing using Python.\n",
    "\n",
    "* Get LinkedIn archive.\n",
    "  * Go to https://linkedin.com\n",
    "  * Me on top -> Settings & Privacy\n",
    "  * Then go to \"How LinkedIn users your data\" -> Getting a copy of your data\n",
    "  * Register and download. You will get a link as part of the email.\n",
    "* Data contain multiple CSV files. We will limit the analysis to **Contacts.csv** and **Connections.csv**.\n",
    "* Get the number of **contacts** with out email ids.\n",
    "* Get the number of **contacts** from each source.\n",
    "* Get the number of **connections** with each title.\n",
    "* Get the number of **connections** from each company.\n",
    "* Get the number of **contacts** for each month in the year 2018.\n",
    "* Use Postgres or MySQL as databases (you can setup in your laptop) and write connections data to the database."
   ]
  },
  {
   "cell_type": "code",
   "execution_count": null,
   "metadata": {},
   "outputs": [],
   "source": []
  }
 ],
 "metadata": {
  "kernelspec": {
   "display_name": "Apache Toree - Scala",
   "language": "scala",
   "name": "apache_toree_scala"
  },
  "language_info": {
   "codemirror_mode": "text/x-scala",
   "file_extension": ".scala",
   "mimetype": "text/x-scala",
   "name": "scala",
   "pygments_lexer": "scala",
   "version": "2.11.12"
  },
  "pycharm": {
   "stem_cell": {
    "cell_type": "raw",
    "metadata": {
     "collapsed": false
    },
    "source": []
   }
  }
 },
 "nbformat": 4,
 "nbformat_minor": 4
}
