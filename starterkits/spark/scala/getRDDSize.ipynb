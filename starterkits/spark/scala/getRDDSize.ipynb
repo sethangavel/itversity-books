{
 "cells": [
  {
   "cell_type": "code",
   "execution_count": 4,
   "metadata": {},
   "outputs": [
    {
     "data": {
      "text/plain": [
       "spark = org.apache.spark.sql.SparkSession@59d8fb4a\n"
      ]
     },
     "metadata": {},
     "output_type": "display_data",
     "source": "user"
    },
    {
     "data": {
      "text/plain": [
       "org.apache.spark.sql.SparkSession@59d8fb4a"
      ]
     },
     "execution_count": 4,
     "metadata": {},
     "output_type": "execute_result"
    }
   ],
   "source": [
    "import org.apache.spark.sql.SparkSession\n",
    "val spark = SparkSession.\n",
    "builder.\n",
    "config(\"spark.ui.port\", \"0\").\n",
    "appName(\"Getting Started - Monthly Revenue\").\n",
    "master(\"local[*]\").\n",
    "getOrCreate"
   ]
  },
  {
   "cell_type": "code",
   "execution_count": 5,
   "metadata": {},
   "outputs": [
    {
     "data": {
      "text/plain": [
       "Name: Compile Error\n",
       "Message: <console>:27: error: not found: type RDD\n",
       "       def getTotalSize(rdd: RDD[Row]): Long = {\n",
       "                             ^\n",
       "<console>:34: error: not found: value getRDDSize\n",
       "           val sampleRDDSize = getRDDSize(sampleRDD)\n",
       "                               ^\n",
       "<console>:38: error: not found: value getRDDSize\n",
       "           totalSize = getRDDSize(rdd)\n",
       "                       ^\n",
       "\n",
       "StackTrace: "
      ]
     },
     "execution_count": 5,
     "metadata": {},
     "output_type": "execute_result"
    }
   ],
   "source": [
    "def getTotalSize(rdd: RDD[Row]): Long = {\n",
    "  // This can be a parameter\n",
    "  val NO_OF_SAMPLE_ROWS = 10l;\n",
    "  val totalRows = rdd.count();\n",
    "  var totalSize = 0l\n",
    "  if (totalRows > NO_OF_SAMPLE_ROWS) {\n",
    "    val sampleRDD = rdd.sample(true, NO_OF_SAMPLE_ROWS)\n",
    "    val sampleRDDSize = getRDDSize(sampleRDD)\n",
    "    totalSize = sampleRDDSize.*(totalRows)./(NO_OF_SAMPLE_ROWS)\n",
    "  } else {\n",
    "    // As the RDD is smaller than sample rows count, we can just calculate the total RDD size\n",
    "    totalSize = getRDDSize(rdd)\n",
    "  }\n",
    "\n",
    "  totalSize\n",
    "}"
   ]
  },
  {
   "cell_type": "code",
   "execution_count": null,
   "metadata": {},
   "outputs": [],
   "source": [
    "def getRDDSize(rdd: RDD[Row]) : Long = {\n",
    "    var rddSize = 0l\n",
    "    val rows = rdd.collect()\n",
    "    for (i <- 0 until rows.length) {\n",
    "       rddSize += SizeEstimator.estimate(rows.apply(i).toSeq.map { value => value.asInstanceOf[AnyRef] })\n",
    "    }\n",
    "\n",
    "    rddSize\n",
    "}"
   ]
  }
 ],
 "metadata": {
  "kernelspec": {
   "display_name": "Apache Toree - Scala",
   "language": "scala",
   "name": "apache_toree_scala"
  },
  "language_info": {
   "codemirror_mode": "text/x-scala",
   "file_extension": ".scala",
   "mimetype": "text/x-scala",
   "name": "scala",
   "pygments_lexer": "scala",
   "version": "2.11.12"
  }
 },
 "nbformat": 4,
 "nbformat_minor": 2
}
